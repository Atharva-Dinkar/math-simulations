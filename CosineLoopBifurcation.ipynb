{
 "cells": [
  {
   "cell_type": "code",
   "execution_count": 1,
   "metadata": {},
   "outputs": [],
   "source": [
    "import numpy as np\n",
    "from matplotlib import pyplot as plt\n",
    "import copy"
   ]
  },
  {
   "cell_type": "code",
   "execution_count": 30,
   "metadata": {},
   "outputs": [],
   "source": [
    "%matplotlib qt\n",
    "no_of_iters = 1000\n",
    "no_of_betas = 8193\n",
    "beta_min = 0\n",
    "beta_max = 4\n",
    "beta_range = beta_max - beta_min\n",
    "beta_step = beta_range/no_of_betas\n",
    "betas = np.arange(beta_min, beta_max+beta_step, beta_step)\n",
    "betas = np.linspace(beta_min, beta_max, no_of_betas)\n",
    "\n",
    "x0 = np.zeros(no_of_betas)\n",
    "lx = np.arange(no_of_iters)\n",
    "ly = np.zeros((no_of_iters, no_of_betas))\n",
    "# print(betas)\n",
    "for i in range(1, no_of_iters):\n",
    "    x0 = x0 + np.multiply(np.cos(x0), betas)\n",
    "    ly[i] = copy.deepcopy(x0)\n",
    "\n",
    "# for i in range(no_of_betas):\n",
    "#     plt.plot(lx, ly.T[no_of_betas-1-i], label=str(betas[no_of_betas-1-i]))\n",
    "# # plt.legend(loc='best')\n",
    "# plt.show()"
   ]
  },
  {
   "cell_type": "code",
   "execution_count": 31,
   "metadata": {},
   "outputs": [],
   "source": [
    "b_tup_with_betas = {}\n",
    "\n",
    "for i in range(no_of_betas):\n",
    "    b_tup_with_betas[betas[i]] = []\n",
    "    for j in range(no_of_iters-1, -1, -1):\n",
    "        if (len(b_tup_with_betas[betas[i]]) == 0):\n",
    "            b_tup_with_betas[betas[i]].append(ly[j][i])\n",
    "        elif( np.min(np.abs(b_tup_with_betas[betas[i]] - ly[j][i])) > 0.001):\n",
    "            b_tup_with_betas[betas[i]].append(ly[j][i])\n",
    "        else:\n",
    "            break\n",
    "                "
   ]
  },
  {
   "cell_type": "code",
   "execution_count": 35,
   "metadata": {},
   "outputs": [],
   "source": [
    "bx = []\n",
    "by = []\n",
    "for i in b_tup_with_betas.keys():\n",
    "    for j in b_tup_with_betas[i]:\n",
    "        bx.append(i)\n",
    "        by.append(j)\n",
    "\n",
    "plt.scatter(bx, by, s = 0.05)\n",
    "plt.grid()\n",
    "plt.xticks(np.arange(betas[0], betas[-1]+0.25, 0.25))\n",
    "plt.xlabel(\"β\")\n",
    "plt.ylabel(\"Steady-state value\")\n",
    "plt.title(\"$\\mathregular{x_{n+1}} = \\mathregular{x_{n}} + β*\\cos(\\mathregular{x_{n}})$\")\n",
    "plt.show()"
   ]
  }
 ],
 "metadata": {
  "kernelspec": {
   "display_name": "Python 3",
   "language": "python",
   "name": "python3"
  },
  "language_info": {
   "codemirror_mode": {
    "name": "ipython",
    "version": 3
   },
   "file_extension": ".py",
   "mimetype": "text/x-python",
   "name": "python",
   "nbconvert_exporter": "python",
   "pygments_lexer": "ipython3",
   "version": "3.8.3"
  }
 },
 "nbformat": 4,
 "nbformat_minor": 4
}
