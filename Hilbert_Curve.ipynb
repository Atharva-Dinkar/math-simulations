{
 "cells": [
  {
   "cell_type": "code",
   "execution_count": 3,
   "metadata": {},
   "outputs": [],
   "source": [
    "import numpy as np\n",
    "import matplotlib.pyplot as plt\n",
    "\n",
    "def build_hc(levels):\n",
    "    if (levels == 1):\n",
    "        return np.array([\n",
    "            [1/4, 1/4], \n",
    "            [1/4, 3/4],\n",
    "            [3/4, 3/4],\n",
    "            [3/4, 1/4]]).T\n",
    "    else:\n",
    "        a = np.array([[0, 1], [-1, 0]])\n",
    "        b = np.array([[0, -1], [1, 0]])\n",
    "        \n",
    "        F0 = build_hc(levels-1)-np.array([[0.5], [0.5]])\n",
    "\n",
    "        F0r = np.matmul(a, F0)/2\n",
    "        F1r = F0/2\n",
    "        F2r = F0/2\n",
    "        F3r = np.matmul(b, F0)/2\n",
    "        \n",
    "        F0s = F0r+np.array([[0.25], [0.25]])\n",
    "        F1s = F1r+np.array([[0.25], [0.75]])\n",
    "        F2s = F2r+np.array([[0.75], [0.75]])\n",
    "        F3s = F3r+np.array([[0.75], [0.25]])\n",
    "        \n",
    "        F0b = F0s.T[::-1].T\n",
    "        F1b = F1s\n",
    "        F2b = F2s\n",
    "        F3b = F3s.T[::-1].T\n",
    "        \n",
    "        k = np.concatenate((F0b, F1b), axis=1)\n",
    "        k = np.concatenate((k, F2b), axis=1)\n",
    "        k = np.concatenate((k, F3b), axis=1)\n",
    "        return k\n",
    "    \n",
    "def find_coords(a, levels):\n",
    "    # a lies in the interval (0, 1)\n",
    "    b = a\n",
    "    \n",
    "    arr = [0, 1, 2, 3]\n",
    "    x1 = 0\n",
    "    x2 = 1\n",
    "    y1 = 0\n",
    "    y2 = 1\n",
    "    \n",
    "    for i in range(levels):\n",
    "        b = (4*b)%4\n",
    "        c = int(np.floor(b))\n",
    "        selector = arr[c]\n",
    "        #print(x1, x2, y1, y2)\n",
    "        if selector == 0:\n",
    "            x2 = (x1+x2)/2\n",
    "            y2 = (y1+y2)/2\n",
    "        elif selector == 1:\n",
    "            x2 = (x1+x2)/2\n",
    "            y1 = (y1+y2)/2\n",
    "        elif selector == 2:\n",
    "            x1 = (x1+x2)/2\n",
    "            y1 = (y1+y2)/2\n",
    "        elif selector == 3:\n",
    "            x1 = (x1+x2)/2\n",
    "            y2 = (y1+y2)/2\n",
    "        \n",
    "        if c == 0:\n",
    "            t = arr[1]\n",
    "            arr[1] = arr[3]\n",
    "            arr[3] = t\n",
    "        elif c == 3:\n",
    "            t = arr[0]\n",
    "            arr[0] = arr[2]\n",
    "            arr[2] = t\n",
    "    # print(x1, x2, y1, y2)\n",
    "    return (x1+x2)/2, (y1+y2)/2"
   ]
  },
  {
   "cell_type": "code",
   "execution_count": 9,
   "metadata": {},
   "outputs": [
    {
     "name": "stdout",
     "output_type": "stream",
     "text": [
      "(0.9619140625, 0.3720703125)\n"
     ]
    }
   ],
   "source": [
    "levels = 9\n",
    "print(find_coords(49/64+0.001, levels))\n",
    "        \n",
    "   \n",
    "l = build_hc(levels)\n",
    "\n",
    "\n",
    "a = np.arange(0, 1, 0.001)\n",
    "b = np.arange(0, 1, 0.001)\n",
    "c = np.arange(0, 1, 0.001)\n",
    "\n",
    "for i in range(len(a)):\n",
    "    t = find_coords(a[i], levels)\n",
    "    b[i] = t[0]\n",
    "    c[i] = t[1]"
   ]
  },
  {
   "cell_type": "code",
   "execution_count": 10,
   "metadata": {},
   "outputs": [
    {
     "name": "stdout",
     "output_type": "stream",
     "text": [
      "(2, 262144)\n"
     ]
    }
   ],
   "source": [
    "%matplotlib qt\n",
    "plt.plot([0, 0, 1, 1, 0], [0, 1, 1, 0, 0])\n",
    "plt.plot(b, c)\n",
    "plt.plot(l[0], l[1])\n",
    "plt.show()\n",
    "print(np.shape(l))"
   ]
  }
 ],
 "metadata": {
  "kernelspec": {
   "display_name": "Python 3",
   "language": "python",
   "name": "python3"
  },
  "language_info": {
   "codemirror_mode": {
    "name": "ipython",
    "version": 3
   },
   "file_extension": ".py",
   "mimetype": "text/x-python",
   "name": "python",
   "nbconvert_exporter": "python",
   "pygments_lexer": "ipython3",
   "version": "3.8.3"
  }
 },
 "nbformat": 4,
 "nbformat_minor": 4
}
