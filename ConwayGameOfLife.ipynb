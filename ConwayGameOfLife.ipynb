{
 "cells": [
  {
   "cell_type": "code",
   "execution_count": 1,
   "metadata": {},
   "outputs": [],
   "source": [
    "import numpy as np\n",
    "import matplotlib.pyplot as plt\n",
    "import matplotlib.animation as animation"
   ]
  },
  {
   "cell_type": "code",
   "execution_count": 3,
   "metadata": {},
   "outputs": [],
   "source": [
    "%matplotlib qt\n",
    "def update(frameNum, img, grid, N):\n",
    "    new_grid = grid.copy()\n",
    "    for i in range(N):\n",
    "        for j in range(N):\n",
    "            total = int((grid[i, (j-1)%N] + grid[i, (j+1)%N] +\n",
    "                         grid[(i-1)%N, j] + grid[(i+1)%N, j] +\n",
    "                         grid[(i-1)%N, (j-1)%N] + grid[(i-1)%N, (j+1)%N] +\n",
    "                         grid[(i+1)%N, (j-1)%N] + grid[(i+1)%N, (j+1)%N]) / 255)\n",
    "            if grid[i, j] == ON:\n",
    "                if (total < 2) or (total > 3):\n",
    "                    new_grid[i, j] = OFF\n",
    "            else:\n",
    "                if total == 3:\n",
    "                    new_grid[i, j] = ON\n",
    "    img.set_data(new_grid)\n",
    "    grid[:] = new_grid[:]\n",
    "    return img\n",
    "\n",
    "# Define constants\n",
    "ON = 255\n",
    "OFF = 0\n",
    "N = 100\n",
    "updateInterval = 50\n",
    "\n",
    "# Create a grid with random initial state\n",
    "grid = np.random.choice([ON, OFF], N*N, p=[0.2, 0.8]).reshape(N, N)\n",
    "\n",
    "# Set up the animation\n",
    "fig, ax = plt.subplots()\n",
    "img = ax.imshow(grid, interpolation='nearest')\n",
    "ani = animation.FuncAnimation(fig, update, fargs=(img, grid, N,),\n",
    "                              frames=20, interval=updateInterval, save_count=50)\n",
    "\n",
    "plt.show()"
   ]
  }
 ],
 "metadata": {
  "kernelspec": {
   "display_name": "Python 3",
   "language": "python",
   "name": "python3"
  },
  "language_info": {
   "codemirror_mode": {
    "name": "ipython",
    "version": 3
   },
   "file_extension": ".py",
   "mimetype": "text/x-python",
   "name": "python",
   "nbconvert_exporter": "python",
   "pygments_lexer": "ipython3",
   "version": "3.8.3"
  }
 },
 "nbformat": 4,
 "nbformat_minor": 4
}
