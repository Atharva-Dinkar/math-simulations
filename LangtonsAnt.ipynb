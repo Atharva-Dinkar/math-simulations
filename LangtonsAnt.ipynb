{
 "cells": [
  {
   "cell_type": "code",
   "execution_count": 64,
   "metadata": {},
   "outputs": [],
   "source": [
    "import numpy as np\n",
    "import matplotlib.pyplot as plt\n",
    "import matplotlib.animation as animation\n",
    "\n",
    "class LangtonsAnt:\n",
    "    def __init__(self, width, height):\n",
    "        self.width = width\n",
    "        self.height = height\n",
    "        self.grid = np.zeros((height, width), dtype=int)\n",
    "        self.ant_position = (height // 2, width // 2)\n",
    "        self.direction = 0  # 0: up, 1: right, 2: down, 3: left\n",
    "        self.display_grid = np.zeros((height, width), dtype=int)\n",
    "\n",
    "    def update(self):\n",
    "        x, y = self.ant_position\n",
    "        if self.grid[x, y] == 0:\n",
    "            self.grid[x, y] = 1\n",
    "            self.direction = (self.direction + 1) % 4\n",
    "        else:\n",
    "            self.grid[x, y] = 0\n",
    "            self.direction = (self.direction - 1) % 4\n",
    "            \n",
    "        if self.direction == 0:\n",
    "            self.ant_position = ((x - 1) % self.height, y)\n",
    "        elif self.direction == 1:\n",
    "            self.ant_position = (x, (y + 1) % self.width)\n",
    "        elif self.direction == 2:\n",
    "            self.ant_position = ((x + 1) % self.height, y)\n",
    "        elif self.direction == 3:\n",
    "            self.ant_position = (x, (y - 1) % self.width)\n",
    "        \n",
    "    def get_grid(self):\n",
    "        self.display_grid = self.grid.copy()\n",
    "        x,y = self.ant_position\n",
    "        self.display_grid[x][y] = 2\n",
    "        return self.display_grid\n",
    "\n",
    "def update(frameNum, img, ant):\n",
    "    ant.update()\n",
    "    img.set_data(ant.get_grid())\n",
    "    return img\n",
    "\n",
    "# Set up the animation\n",
    "width = 100\n",
    "height = 100\n",
    "ant = LangtonsAnt(width, height)\n",
    "fig, ax = plt.subplots()\n",
    "# img = ax.imshow(ant.get_grid(), cmap = 'viridis', interpolation='bicubic')\n",
    "# img = ax.imshow(ant.get_grid(), cmap = 'viridis', interpolation='nearest')\n",
    "img = ax.imshow(ant.get_grid(), cmap = 'viridis', interpolation='bilinear')\n",
    "# img = ax.imshow(ant.get_grid(), cmap = 'viridis', interpolation='none')\n",
    "img.set_clim(vmin=0, vmax=2)\n",
    "ani = animation.FuncAnimation(fig, update, fargs=(img, ant), frames=10, interval=1)\n",
    "plt.axis('off')\n",
    "plt.show()\n"
   ]
  },
  {
   "cell_type": "code",
   "execution_count": null,
   "metadata": {},
   "outputs": [],
   "source": []
  }
 ],
 "metadata": {
  "kernelspec": {
   "display_name": "Python 3",
   "language": "python",
   "name": "python3"
  },
  "language_info": {
   "codemirror_mode": {
    "name": "ipython",
    "version": 3
   },
   "file_extension": ".py",
   "mimetype": "text/x-python",
   "name": "python",
   "nbconvert_exporter": "python",
   "pygments_lexer": "ipython3",
   "version": "3.8.3"
  }
 },
 "nbformat": 4,
 "nbformat_minor": 4
}
